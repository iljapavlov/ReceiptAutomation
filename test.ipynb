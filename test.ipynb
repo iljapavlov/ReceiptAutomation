{
 "cells": [
  {
   "cell_type": "code",
   "execution_count": 1,
   "metadata": {},
   "outputs": [],
   "source": [
    "import pandas as pd\n",
    "from collections import defaultdict\n",
    "import imaplib\n",
    "import email\n",
    "from email.header import decode_header\n",
    "import os\n",
    "from dotenv import load_dotenv\n",
    "import re\n",
    "from bs4 import BeautifulSoup"
   ]
  },
  {
   "cell_type": "code",
   "execution_count": 2,
   "metadata": {},
   "outputs": [
    {
     "data": {
      "text/plain": [
       "('OK', [b'pavlovs.ilja@gmail.com authenticated (Success)'])"
      ]
     },
     "execution_count": 2,
     "metadata": {},
     "output_type": "execute_result"
    }
   ],
   "source": [
    "load_dotenv()\n",
    "imap_server = os.getenv(\"IMAP_SERVER\")\n",
    "email_address = os.getenv(\"EMAIL_ADDRESS\")\n",
    "password = os.getenv(\"EMAIL_PASSWORD\")\n",
    "\n",
    "filters = [\n",
    "    {\"sender\": \"noreply.tsekk@maxima.ee\", \"subject\": \"Sinu ostutšekk!\"},\n",
    "    {\"sender\": \"noreply@rimibaltic.com\", \"subject\": \"Sinu ostutšekk\"},\n",
    "    {\"sender\": \"estonia-food@bolt.eu\", \"subject\": \"Delivery from Bolt Food\"}\n",
    "]\n",
    "\n",
    "imap_connection = imaplib.IMAP4_SSL(imap_server)\n",
    "imap_connection.login(email_address, password)"
   ]
  },
  {
   "cell_type": "code",
   "execution_count": 17,
   "metadata": {},
   "outputs": [],
   "source": [
    "def get_email_content(email_message):\n",
    "    if email_message.is_multipart():\n",
    "        for part in email_message.walk():\n",
    "            print(part.get_content_type())\n",
    "            if part.get_content_type() in [\"text/plain\", \"text/html\",\"multipart/mixed\",\"multipart/related\"]:\n",
    "                return part.get_payload(decode=True).decode(errors='replace')\n",
    "    else:\n",
    "        return email_message.get_payload(decode=True).decode(errors='replace')\n"
   ]
  },
  {
   "cell_type": "code",
   "execution_count": 4,
   "metadata": {},
   "outputs": [],
   "source": [
    "imap_connection.select(\"INBOX\")\n",
    "filtered_emails = defaultdict(list)\n",
    "\n",
    "filter_criteria = filters[1] # rimi\n",
    "\n",
    "sender = filter_criteria[\"sender\"]\n",
    "subject = filter_criteria[\"subject\"]\n",
    "\n",
    "_, message_numbers = imap_connection.search(None, f'FROM \"{sender}\"')"
   ]
  },
  {
   "cell_type": "code",
   "execution_count": 18,
   "metadata": {},
   "outputs": [
    {
     "name": "stdout",
     "output_type": "stream",
     "text": [
      "multipart/mixed\n",
      "multipart/related\n"
     ]
    },
    {
     "ename": "AttributeError",
     "evalue": "'NoneType' object has no attribute 'decode'",
     "output_type": "error",
     "traceback": [
      "\u001b[1;31m---------------------------------------------------------------------------\u001b[0m",
      "\u001b[1;31mAttributeError\u001b[0m                            Traceback (most recent call last)",
      "Cell \u001b[1;32mIn[18], line 16\u001b[0m\n\u001b[0;32m     13\u001b[0m email_sender \u001b[38;5;241m=\u001b[39m email_message[\u001b[38;5;124m\"\u001b[39m\u001b[38;5;124mFrom\u001b[39m\u001b[38;5;124m\"\u001b[39m]\n\u001b[0;32m     14\u001b[0m email_date \u001b[38;5;241m=\u001b[39m email_message[\u001b[38;5;124m\"\u001b[39m\u001b[38;5;124mDate\u001b[39m\u001b[38;5;124m\"\u001b[39m]\n\u001b[1;32m---> 16\u001b[0m content \u001b[38;5;241m=\u001b[39m get_email_content(email_message)\n\u001b[0;32m     18\u001b[0m filtered_emails[sender]\u001b[38;5;241m.\u001b[39mappend({\n\u001b[0;32m     19\u001b[0m     \u001b[38;5;124m\"\u001b[39m\u001b[38;5;124msubject\u001b[39m\u001b[38;5;124m\"\u001b[39m: email_subject,\n\u001b[0;32m     20\u001b[0m     \u001b[38;5;124m\"\u001b[39m\u001b[38;5;124msender\u001b[39m\u001b[38;5;124m\"\u001b[39m: email_sender,\n\u001b[0;32m     21\u001b[0m     \u001b[38;5;124m\"\u001b[39m\u001b[38;5;124mdate\u001b[39m\u001b[38;5;124m\"\u001b[39m: email_date,\n\u001b[0;32m     22\u001b[0m     \u001b[38;5;124m\"\u001b[39m\u001b[38;5;124mcontent\u001b[39m\u001b[38;5;124m\"\u001b[39m: content\n\u001b[0;32m     23\u001b[0m })\n",
      "Cell \u001b[1;32mIn[17], line 6\u001b[0m, in \u001b[0;36mget_email_content\u001b[1;34m(email_message)\u001b[0m\n\u001b[0;32m      4\u001b[0m         \u001b[38;5;28mprint\u001b[39m(part\u001b[38;5;241m.\u001b[39mget_content_type())\n\u001b[0;32m      5\u001b[0m         \u001b[38;5;28;01mif\u001b[39;00m part\u001b[38;5;241m.\u001b[39mget_content_type() \u001b[38;5;129;01min\u001b[39;00m [\u001b[38;5;124m\"\u001b[39m\u001b[38;5;124mtext/plain\u001b[39m\u001b[38;5;124m\"\u001b[39m, \u001b[38;5;124m\"\u001b[39m\u001b[38;5;124mtext/html\u001b[39m\u001b[38;5;124m\"\u001b[39m,\u001b[38;5;124m\"\u001b[39m\u001b[38;5;124mmultipart/related\u001b[39m\u001b[38;5;124m\"\u001b[39m]:\n\u001b[1;32m----> 6\u001b[0m             \u001b[38;5;28;01mreturn\u001b[39;00m part\u001b[38;5;241m.\u001b[39mget_payload(decode\u001b[38;5;241m=\u001b[39m\u001b[38;5;28;01mTrue\u001b[39;00m)\u001b[38;5;241m.\u001b[39mdecode(errors\u001b[38;5;241m=\u001b[39m\u001b[38;5;124m'\u001b[39m\u001b[38;5;124mreplace\u001b[39m\u001b[38;5;124m'\u001b[39m)\n\u001b[0;32m      7\u001b[0m \u001b[38;5;28;01melse\u001b[39;00m:\n\u001b[0;32m      8\u001b[0m     \u001b[38;5;28;01mreturn\u001b[39;00m email_message\u001b[38;5;241m.\u001b[39mget_payload(decode\u001b[38;5;241m=\u001b[39m\u001b[38;5;28;01mTrue\u001b[39;00m)\u001b[38;5;241m.\u001b[39mdecode(errors\u001b[38;5;241m=\u001b[39m\u001b[38;5;124m'\u001b[39m\u001b[38;5;124mreplace\u001b[39m\u001b[38;5;124m'\u001b[39m)\n",
      "\u001b[1;31mAttributeError\u001b[0m: 'NoneType' object has no attribute 'decode'"
     ]
    }
   ],
   "source": [
    "num = message_numbers[0].split()[1]\n",
    "\n",
    "_, msg_data = imap_connection.fetch(num, '(RFC822)')\n",
    "email_body = msg_data[0][1]\n",
    "email_message = email.message_from_bytes(email_body)\n",
    "\n",
    "email_subject, encoding = decode_header(email_message[\"Subject\"])[0]\n",
    "\n",
    "if isinstance(email_subject, bytes):\n",
    "    email_subject = email_subject.decode(encoding or \"utf-8\")\n",
    "\n",
    "if email_subject == subject:\n",
    "    email_sender = email_message[\"From\"]\n",
    "    email_date = email_message[\"Date\"]\n",
    "    \n",
    "    content = get_email_content(email_message)\n",
    "    \n",
    "    filtered_emails[sender].append({\n",
    "        \"subject\": email_subject,\n",
    "        \"sender\": email_sender,\n",
    "        \"date\": email_date,\n",
    "        \"content\": content\n",
    "    })"
   ]
  },
  {
   "cell_type": "code",
   "execution_count": 12,
   "metadata": {},
   "outputs": [
    {
     "data": {
      "text/plain": [
       "'<html>\\r\\n\\r\\n<head>\\r\\n    <meta http-equiv=\"Content-Type\" content=\"text/html; charset=UTF-8\" />\\r\\n</head>\\r\\n\\r\\n<table style=\"width:100%;font-family:Arial,sans-serif;font-weight:normal;line-height:0\">\\r\\n    <tbody>\\r\\n    <tr>\\r\\n        <td style=\"background-color:white\" align=\"center\" valign=\"top\">\\r\\n<table style=\"margin:0;padding:0;width:700px;line-height:normal\" cellspacing=\"0\" cellpadding=\"0\" border=\"0\" width=\"700\">\\r\\n    <tbody><tr>\\r\\n        <td style=\"line-height:0;padding:60px 0 0 0;line-height:0\" valign=\"top\">\\r\\n            <img src=\"cid:bgImage\" style=\"max-width:100%;line-height:0\">\\r\\n        </td>\\r\\n    </tr>\\r\\n     </tbody>\\r\\n</table>\\r\\n\\r\\n<table style=\"margin:0;padding:0;width:770px\" width=\"700\" cellspacing=\"0\" cellpadding=\"0\" border=\"0\">\\r\\n    <tbody>\\r\\n    <tr>\\r\\n        <td  style=\"background-color:white;padding:20px 0px 0 60px\">\\r\\n             <h2 style=\"color:#363d40;font-size:24px;line-height:28px\">Hea klient,</h2>\\r\\n             <br>\\r\\n        </td>\\r\\n    </tr>\\r\\n    </tbody>\\r\\n</table>   \\r\\n\\r\\n<table style=\"margin:0;padding:0;width:770px\" width=\"700\" cellspacing=\"0\" cellpadding=\"0\" border=\"0\">\\r\\n\\t<tbody>\\r\\n    <tr>\\r\\n\\t\\t<td style=\"background-color:white;padding:20px 60px 30px 60px;color:#576266;font-size:18px;line-height:28px;text-align:justify\">\\r\\n\\t\\t\\t\\t  Oled avaldanud soovi saada Rimi ostutšekk e-posti teel. Saadame sulle tšeki, mis on lisatud kirjale.<br>\\r\\n                    <br>Kui sa enam ei soovi saada ostutšekke e-posti teel, on sul võimalus Rimi personaalsel konto profiilil eemaldada valik „Soovin saada ostutšeki e-posti teel“.<br>\\r\\n                    <br> Küsimuste korral võta ühendust Rimi klienditoega 6056333 või <a href=\"mailto:klienditugi@rimibaltic.com\" style=\"color:#a12971\" target=\"_blank\" rel=\"noreferrer\">klienditugi@rimibaltic.com</a><br>\\r\\n                    <br> <br> Meeldivaid oste soovides<br>Sinu Rimi<br><br><br><br>\\r\\n\\t\\t</td>\\r\\n\\t</tr>\\r\\n    </tbody>\\r\\n</table>\\r\\n\\r\\n<table style=\"margin:0;padding:0;width:680px\" width=\"700\" cellspacing=\"0\" cellpadding=\"0\" border=\"0\">\\r\\n    <tbody>\\r\\n    <tr>\\r\\n        <td width=\"100%\" style=\\'background:#f0f2f3;width:0.0%;padding:0pt 0pt 0pt 0pt;text-align:justify\\'>\\r\\n        <p style=\\'margin-right:11.25pt;margin-bottom:cm;margin-left:11.25pt;line-height:9.0pt\\'>\\r\\n        <span style=\\'font-size:9.0pt;font-family:\"Arial\",sans-serif;color:#999999\\'>\\r\\n              Edastame Sulle info e-posti aadressile \\r\\n              <a style=\"text-decoration:none\">pavlovs.ilja@gmail.com</a>.\\r\\n              Kui soovid edaspidi saada infot mõnele teisele e-posti aadressile, siis palun muuda oma andmed\\r\\n              <a href=\"https://sso.onrimi.net/Account/Login?ReturnUrl=%2Fconnect%2Fauthorize%2Fcallback%3Fclient_id%3Dmyrimi%26response_type%3Dcode%26scope%3Dopenid%2520profile%2520loyalty%2520offline_access%2520retail%2520cart%2520recipes%26redirect_uri%3Dhttps%253A%252F%252Fwww.rimi.ee%252Faccount%252Flogin%252Fcallback%26country%3Dee%26lang%3Det\"\\r\\n              style=\\'font-size:9.0pt;font-family:\"Arial \",sans-serif;color:#999999\\'>\\r\\n              siin.</a> Antud kiri jõudis Sinuni, kuna oled andnud nõusoleku. Sinu tagasiside on alati oodatud ja soovi korral palun edasta tagasiside\\r\\n              <a href=\"https://www.rimi.ee/kontakt\" style=\\'font-size:9.0pt;font-family:\"Arial \",sans-serif;color:#999999\\'>\\r\\n              siin.</a>\\r\\n        </span>\\r\\n        </td>\\r\\n    </tr>        \\r\\n    </tbody>\\r\\n</table>   \\r\\n</tbody>\\r\\n</table>\\r\\n</html>\\r\\n'"
      ]
     },
     "execution_count": 12,
     "metadata": {},
     "output_type": "execute_result"
    }
   ],
   "source": [
    "content"
   ]
  },
  {
   "cell_type": "code",
   "execution_count": null,
   "metadata": {},
   "outputs": [],
   "source": [
    "imap_connection.logout()"
   ]
  }
 ],
 "metadata": {
  "kernelspec": {
   "display_name": "base",
   "language": "python",
   "name": "python3"
  },
  "language_info": {
   "codemirror_mode": {
    "name": "ipython",
    "version": 3
   },
   "file_extension": ".py",
   "mimetype": "text/x-python",
   "name": "python",
   "nbconvert_exporter": "python",
   "pygments_lexer": "ipython3",
   "version": "3.11.7"
  }
 },
 "nbformat": 4,
 "nbformat_minor": 2
}
